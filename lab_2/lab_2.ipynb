{
 "cells": [
  {
   "cell_type": "markdown",
   "metadata": {},
   "source": [
    "## Salsa"
   ]
  },
  {
   "cell_type": "code",
   "execution_count": 18,
   "metadata": {},
   "outputs": [],
   "source": [
    "data = [\n",
    "    'ad924af7a9cdaf3a1bb0c3fe1a20a3f367d82b0f05f8e75643ba688ea2ce8ec88f4762fbe93b50bf5138c7b699',\n",
    "    'a59a0eaeb4d1fc325ab797b31425e6bc66d36e5b18efe8060cb32edeaad68180db4979ede43856a24c7d',\n",
    "    'a59a0eaeaad7fc3c56fe82fd1f6bb5a769c43a0f0cfae74f0df56fdae3db8d9d840875ecae2557bf563fcea2',\n",
    "    'a59a0eaea8ddf93c08fe81e11e2ab2bb6d962f0f1af2f44243b46cc1b6d6c291995d65a9a5234aa204',\n",
    "    'ad924af7a9cdaf3a1bb0c3f51439a5b628cf215a1fbdee4302a77a8ea2cc86c8984d65ffac6c58bf5b71dab8841136',\n",
    "    'b09b4afda3caf93c5aa78ce6096bb2a67ad86e4302f3e10602b37acbb1829680935137e8bb2919b6503fccfdca5461',\n",
    "    'a59a0eaeb5d7af3115b287b31425e6a460d3200f19f5e35406f567dde3cc8d9c9e4179eee92557f1463edc',\n",
    "    'a18c09ebb6ccaf2d12bbc3c41227aaf37fde274c05bdf5471aa62edaac82968093452da9eb0456bd5b71c6bfcb56',\n",
    "    'ad924af7a9cdaf3a1bb0c3e71a27adf37fdf3a474dfef44914b17d8ea2cc86c89d4d72f9e93556a44d71dfb8980034b3cea5c4d4',\n",
    "    'ab864af9a7d4e4790db797fb5b00afbd6fc5acaff9f3e95443b961dda6829680930874e6a42156bf1f25c6a4891c6d',\n",
    "    'ad924ae0a3d1fb311facc3f5142eb5f366d93c0f01f2f04f0db22ec8b1cb8786925b37eaa82219b94a23ddf1931b34fa',\n",
    "    'ad924aefaad4af341fb0c3f0143ea8a728c1275b05bdff4916f92eccb6d6c286994672a9bd2356f15224cab9d1',\n",
    "    'ad924af7a9cdaf3a1bb0c3f51227aaf37cde2b0f18f3e04911b267d8aacc85c89b4179fcbd29',\n",
    "    'b39d1ee6e6cbe6210ea7c3e01e28a9bd6cc5690f1af2f4520bf561c8e3c68b9b824979eaac6c4ba4517d89f1ca',\n",
    "    'bd9b1ffcb598e62a5aaa8bf65b0ea7a17cde6e4e03f9a64315b07cd7b7ca8b86910863e1a8381ea21f38c7f183006df6c2a5',\n",
    "    'a59a0e6c462cf83113bd8bb31238e6be67c42bcded09ff4916f262c2e3c087c897085ae8a76019bc4671dabe8455'\n",
    "]\n",
    "\n",
    "data = [bytes.fromhex(el) for el in data]\n",
    "\n",
    "def get_xor_array(i, j):\n",
    "    size = min(len(data[i]), len(data[j]))\n",
    "    a, b = data[i][:size], data[j][:size]\n",
    "    return np.array([a[i] ^ b[i] for i in range(len(a))])\n",
    "\n",
    "def get_word(s):\n",
    "    return np.array([ord(el) for el in s])\n"
   ]
  },
  {
   "cell_type": "code",
   "execution_count": 19,
   "metadata": {},
   "outputs": [
    {
     "data": {
      "text/plain": [
       "array([ 8,  8, 68, 89,  3, 26, 83,  6, 77, 78, 65,  8, 11, 82, 16, 17, 65,\n",
       "       11, 27, 85, 19, 71,  9, 12, 15, 82, 21, 84, 65, 23, 11, 85, 28, 69,\n",
       "       16, 19,  2, 73, 15,  0, 13, 78, 20, 26])"
      ]
     },
     "execution_count": 19,
     "metadata": {},
     "output_type": "execute_result"
    }
   ],
   "source": [
    "import numpy as np\n",
    "\n",
    "xor = get_xor_array(2, 4)\n",
    "xor"
   ]
  },
  {
   "cell_type": "code",
   "execution_count": 12,
   "metadata": {},
   "outputs": [
    {
     "name": "stdout",
     "output_type": "stream",
     "text": [
      "[ 97 110 100  32 108 111 115 101  44  32  97 110 100  32 115 116  97 114\n",
      " 116  32  97 103  97 105 110  32  97 116  32 121 111 117 114  32  98 101\n",
      " 103 105 110 110 105 110 103 115]\n",
      "pos 0: if you can force your heart and nerve and si\n"
     ]
    }
   ],
   "source": [
    "word = get_word('and lose, and start again at your beginnings')\n",
    "print(word)\n",
    "\n",
    "for i in range(0, len(xor) - len(word) + 1):\n",
    "    orig = ''.join(chr(el) for el in word ^ xor[i:i+len(word)])\n",
    "    print(f'pos {i}: {orig}')"
   ]
  },
  {
   "cell_type": "code",
   "execution_count": 13,
   "metadata": {},
   "outputs": [
    {
     "data": {
      "text/plain": [
       "array([196, 244, 106, 142, 198, 184, 143,  89, 122, 222, 227, 147, 123,\n",
       "        75, 198, 211,   8, 182,  78,  47, 109, 157, 134,  38,  99, 213,\n",
       "        14, 174, 195, 162, 226, 232, 246,  40,  23, 137, 201,  76,  57,\n",
       "       209,  63,  81, 169, 209, 234, 116,  65, 214, 226, 133, 228, 244])"
      ]
     },
     "execution_count": 13,
     "metadata": {},
     "output_type": "execute_result"
    }
   ],
   "source": [
    "word = get_word('if you can talk with crowds and keep your virtue,   ')\n",
    "cipher = word ^ list(data[8])\n",
    "cipher"
   ]
  },
  {
   "cell_type": "code",
   "execution_count": 14,
   "metadata": {},
   "outputs": [
    {
     "data": {
      "text/plain": [
       "['if you can make one heap of all your winnings',\n",
       " 'and risk it on one turn of pitch-and-toss,',\n",
       " 'and lose, and start again at your beginnings',\n",
       " 'and never breathe a word about your loss;',\n",
       " 'if you can force your heart and nerve and sinew',\n",
       " 'to serve your turn long after they are gone,   ',\n",
       " 'and so hold on when there is nothing in you',\n",
       " 'except the Will which says to them: \"Hold on!\"',\n",
       " 'if you can talk with crowds and keep your virtue,   ',\n",
       " 'or walk with Kingsâ\\x80\\x94nor lose the common touch,',\n",
       " 'if neither foes nor loving friends can hurt you,',\n",
       " 'if all men count with you, but none too much;',\n",
       " 'if you can fill the unforgiving minute',\n",
       " \"with sixty seconds' worth of distance run,   \",\n",
       " \"yours is the Earth and everything that's in it,   \",\n",
       " \"andâ\\x80\\x94which is moreâ\\x80\\x94you'll be a Man, my son!\"]"
      ]
     },
     "execution_count": 14,
     "metadata": {},
     "output_type": "execute_result"
    }
   ],
   "source": [
    "result = []\n",
    "\n",
    "for row in data:\n",
    "    decoded = cipher[:len(row)] ^ list(row)\n",
    "    result.append(''.join(chr(el) for el in decoded))\n",
    "\n",
    "result"
   ]
  }
 ],
 "metadata": {
  "kernelspec": {
   "display_name": "Python 3",
   "language": "python",
   "name": "python3"
  },
  "language_info": {
   "codemirror_mode": {
    "name": "ipython",
    "version": 3
   },
   "file_extension": ".py",
   "mimetype": "text/x-python",
   "name": "python",
   "nbconvert_exporter": "python",
   "pygments_lexer": "ipython3",
   "version": "3.7.8"
  }
 },
 "nbformat": 4,
 "nbformat_minor": 4
}
