{
 "cells": [
  {
   "cell_type": "markdown",
   "metadata": {},
   "source": [
    "## Generate passwords\n",
    "\n",
    "We use SHA1, SHA256, MD5 and bcrypt algorithms to hash generated passwords."
   ]
  },
  {
   "cell_type": "code",
   "execution_count": 3,
   "metadata": {},
   "outputs": [],
   "source": [
    "import random as rand\n",
    "import string\n",
    "\n",
    "rand.seed()"
   ]
  },
  {
   "cell_type": "code",
   "execution_count": 39,
   "metadata": {},
   "outputs": [],
   "source": [
    "def read_from_file(name, size=None):\n",
    "    with open(name) as f:\n",
    "        data = f.read().split()\n",
    "        if size:\n",
    "            data = data[:size]\n",
    "        return data\n",
    "\n",
    "\n",
    "TOP_100 = read_from_file('top-100-passwords.txt', 100)\n",
    "TOP_1M = read_from_file('top-1M-passwords.txt', 10**6)\n",
    "ENGLISH_COMMON_WORDS = read_from_file('english-common-words.txt')\n",
    "\n",
    "\n",
    "def generate_random():\n",
    "    size = rand.randint(5, 10)\n",
    "    return ''.join(rand.choices(string.ascii_letters + string.digits + '!?', k=size))\n",
    "\n",
    "def generate_from(pass_list):\n",
    "    return rand.choice(pass_list)\n",
    "\n",
    "def generate_random_readable():\n",
    "    prepend_numbers = rand.random() > 0.5\n",
    "    append_numbers = rand.random() > 0.5\n",
    "    replace_symbols = rand.random() > 0.5\n",
    "    \n",
    "    num_words = rand.randint(2, 4)\n",
    "    words = rand.sample(ENGLISH_COMMON_WORDS, num_words)\n",
    "    result = []\n",
    "    for word in words:\n",
    "        if len(result) > 5:\n",
    "            break\n",
    "        result += list(word)\n",
    "    \n",
    "    if prepend_numbers:\n",
    "        size = rand.randint(3, 5)\n",
    "        result = rand.choices(string.digits, k=size) + result\n",
    "    \n",
    "    if append_numbers:\n",
    "        size = rand.randint(2, 4)\n",
    "        result += rand.choices(string.digits, k=size)\n",
    "    \n",
    "    replacements = {\n",
    "        's': '$S5',\n",
    "        'i': 'l1!',\n",
    "        'a': '@A',\n",
    "        't': '7T',\n",
    "        'e': '3E',\n",
    "        'g': '9G6',\n",
    "        'o': 'O0',\n",
    "        'b': '8B'\n",
    "    }\n",
    "    \n",
    "    if replace_symbols:\n",
    "        result = [rand.choice(replacements.get(el, '') + el) for el in result]\n",
    "    \n",
    "    return ''.join(result)\n",
    "    \n",
    "def generate_password():\n",
    "    TOP_100_PERCENTAGE = 5\n",
    "    TOP_1M_PERCENTAGE = 80\n",
    "    RANDOM_PERCENTAGE = 5\n",
    "    RANDOM_READABLE_PERCENTAGE = 10\n",
    "    \n",
    "    chance = rand.randint(1, 100)\n",
    "    \n",
    "    if chance <= TOP_100_PERCENTAGE:\n",
    "        return generate_from(TOP_100)\n",
    "    \n",
    "    chance -= TOP_100_PERCENTAGE\n",
    "    if chance <= TOP_1M_PERCENTAGE:\n",
    "        return generate_from(TOP_1M)\n",
    "    \n",
    "    chance -= TOP_1M_PERCENTAGE\n",
    "    if chance <= RANDOM_PERCENTAGE:\n",
    "        return generate_random()\n",
    "    \n",
    "    chance -= RANDOM_PERCENTAGE\n",
    "    assert chance <= RANDOM_READABLE_PERCENTAGE\n",
    "    return generate_random_readable()"
   ]
  },
  {
   "cell_type": "code",
   "execution_count": 40,
   "metadata": {},
   "outputs": [],
   "source": [
    "from Crypto.Protocol.KDF import bcrypt\n",
    "from Crypto.Hash import MD5, SHA1, SHA256\n",
    "from Crypto.Random import get_random_bytes"
   ]
  },
  {
   "cell_type": "code",
   "execution_count": 41,
   "metadata": {},
   "outputs": [],
   "source": [
    "def generate_hash(algo, password):\n",
    "    return algo.new(password.encode()).hexdigest()\n",
    "\n",
    "def generate_bcrypt_hash(password, cost):\n",
    "    salt = get_random_bytes(16)\n",
    "    return bcrypt(password.encode(), cost, salt).decode(), salt.hex()\n",
    "\n",
    "def generate_hashes():\n",
    "    NUM_PASSWORDS = 500_000\n",
    "    \n",
    "    for algo in MD5, SHA1, SHA256:\n",
    "        name = algo.__name__.split('.')[-1]\n",
    "        with open(f'{name}.csv', 'w') as f:\n",
    "            for i in range(NUM_PASSWORDS):\n",
    "                print(generate_hash(algo, generate_password()), file=f)\n",
    "    \n",
    "    BCRYPT_COST = 4\n",
    "    with open(f'bcrypt-{BCRYPT_COST}.csv', 'w') as f:\n",
    "        for i in range(NUM_PASSWORDS):\n",
    "            print(*generate_bcrypt_hash(generate_password(), BCRYPT_COST), sep=',', file=f)\n"
   ]
  },
  {
   "cell_type": "code",
   "execution_count": 42,
   "metadata": {},
   "outputs": [],
   "source": [
    "generate_hashes()"
   ]
  },
  {
   "cell_type": "markdown",
   "metadata": {},
   "source": [
    "## Find hash preimages"
   ]
  },
  {
   "cell_type": "code",
   "execution_count": null,
   "metadata": {},
   "outputs": [],
   "source": []
  }
 ],
 "metadata": {
  "kernelspec": {
   "display_name": "Python 3",
   "language": "python",
   "name": "python3"
  },
  "language_info": {
   "codemirror_mode": {
    "name": "ipython",
    "version": 3
   },
   "file_extension": ".py",
   "mimetype": "text/x-python",
   "name": "python",
   "nbconvert_exporter": "python",
   "pygments_lexer": "ipython3",
   "version": "3.7.8"
  }
 },
 "nbformat": 4,
 "nbformat_minor": 4
}
